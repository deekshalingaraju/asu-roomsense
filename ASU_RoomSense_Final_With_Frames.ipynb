{
 "cells": [
  {
   "cell_type": "markdown",
   "id": "004e81a8",
   "metadata": {},
   "source": [
    "# 🎥 ASU RoomSense – Real-Time People Monitoring (MacBook Camera)\n",
    "Welcome to the live monitoring notebook! 🧠\n",
    "\n",
    "This notebook captures webcam frames **one at a time**, detects people using a pretrained YOLOv5 model, and logs the count along with timestamps. It’s designed to work with your **MacBook's built-in camera**, not iPhone Continuity Camera.\n",
    "\n",
    "🔍 You will see annotated images directly below each cell. All data will be stored in a log for later analysis."
   ]
  },
  {
   "cell_type": "markdown",
   "id": "a3db136f",
   "metadata": {},
   "source": [
    "## 🔧 Step 1: Import Required Libraries\n",
    "We load all the necessary Python libraries including OpenCV, PyTorch, Matplotlib, and Pandas."
   ]
  },
  {
   "cell_type": "code",
   "execution_count": 2,
   "id": "5848ddfd",
   "metadata": {},
   "outputs": [],
   "source": [
    "import cv2\n",
    "import torch\n",
    "import time\n",
    "import pandas as pd\n",
    "from IPython.display import clear_output, display\n",
    "import matplotlib.pyplot as plt"
   ]
  },
  {
   "cell_type": "markdown",
   "id": "e62426a9",
   "metadata": {},
   "source": [
    "## 🧠 Step 2: Load YOLOv5 Model\n",
    "We use a lightweight **YOLOv5s** model to detect people. The model is loaded via PyTorch Hub and filtered to detect only the **'person'** class."
   ]
  },
  {
   "cell_type": "code",
   "execution_count": 10,
   "id": "471873ed",
   "metadata": {},
   "outputs": [
    {
     "name": "stderr",
     "output_type": "stream",
     "text": [
      "Using cache found in /Users/deekshalingraj/.cache/torch/hub/ultralytics_yolov5_master\n",
      "YOLOv5 🚀 2025-4-27 Python-3.12.4 torch-2.7.0 CPU\n",
      "\n",
      "Fusing layers... \n",
      "YOLOv5s summary: 213 layers, 7225885 parameters, 0 gradients, 16.4 GFLOPs\n",
      "Adding AutoShape... \n"
     ]
    }
   ],
   "source": [
    "# Load YOLOv5 model (first run may download weights)\n",
    "model = torch.hub.load('ultralytics/yolov5', 'yolov5s')\n",
    "model.classes = [0]  # Class 0 = person"
   ]
  },
  {
   "cell_type": "markdown",
   "id": "4d118b1c",
   "metadata": {},
   "source": [
    "## 🎥 Step 3: Connect to the MacBook Webcam\n",
    "Here we explicitly choose camera index `1`, which corresponds to your **built-in MacBook webcam** (not iPhone Continuity Camera).\n",
    "\n",
    "We'll also prepare a log list to store results."
   ]
  },
  {
   "cell_type": "code",
   "execution_count": 70,
   "id": "a7e8e0fb",
   "metadata": {},
   "outputs": [],
   "source": [
    "# Connect to internal camera\n",
    "cap = cv2.VideoCapture(0, cv2.CAP_AVFOUNDATION)  # Use camera index 1 for internal cam\n",
    "log = []"
   ]
  },
  {
   "cell_type": "markdown",
   "id": "3d30ebf3",
   "metadata": {},
   "source": [
    "## 🌀 Step 4: Frame-by-Frame Monitoring\n",
    "We now loop through 30 frames, detect people in each frame, annotate the result, and display it below.\n",
    "\n",
    "- ⏱️ Runs one frame every second\n",
    "- 👥 Counts number of people per frame\n",
    "- 🧾 Logs timestamp and count\n",
    "- 📷 Displays the annotated result"
   ]
  },
  {
   "cell_type": "code",
   "execution_count": 56,
   "id": "5394ddbe",
   "metadata": {},
   "outputs": [
    {
     "data": {
      "text/plain": [
       "<Figure size 640x480 with 1 Axes>"
      ]
     },
     "metadata": {},
     "output_type": "display_data"
    },
    {
     "name": "stdout",
     "output_type": "stream",
     "text": [
      "🕒 2025-04-27 16:15:56 | Frame 30 | 👥 People Detected: 1\n",
      "\n",
      "----- People Detection Summary -----\n",
      "🖼️ Frame 1 | 🕒 2025-04-27 16:15:23 | 👥 People Detected: 1\n",
      "🖼️ Frame 2 | 🕒 2025-04-27 16:15:25 | 👥 People Detected: 1\n",
      "🖼️ Frame 3 | 🕒 2025-04-27 16:15:26 | 👥 People Detected: 1\n",
      "🖼️ Frame 4 | 🕒 2025-04-27 16:15:27 | 👥 People Detected: 1\n",
      "🖼️ Frame 5 | 🕒 2025-04-27 16:15:28 | 👥 People Detected: 1\n",
      "🖼️ Frame 6 | 🕒 2025-04-27 16:15:29 | 👥 People Detected: 1\n",
      "🖼️ Frame 7 | 🕒 2025-04-27 16:15:30 | 👥 People Detected: 1\n",
      "🖼️ Frame 8 | 🕒 2025-04-27 16:15:31 | 👥 People Detected: 1\n",
      "🖼️ Frame 9 | 🕒 2025-04-27 16:15:32 | 👥 People Detected: 1\n",
      "🖼️ Frame 10 | 🕒 2025-04-27 16:15:34 | 👥 People Detected: 1\n",
      "🖼️ Frame 11 | 🕒 2025-04-27 16:15:35 | 👥 People Detected: 1\n",
      "🖼️ Frame 12 | 🕒 2025-04-27 16:15:36 | 👥 People Detected: 1\n",
      "🖼️ Frame 13 | 🕒 2025-04-27 16:15:37 | 👥 People Detected: 1\n",
      "🖼️ Frame 14 | 🕒 2025-04-27 16:15:38 | 👥 People Detected: 1\n",
      "🖼️ Frame 15 | 🕒 2025-04-27 16:15:39 | 👥 People Detected: 1\n",
      "🖼️ Frame 16 | 🕒 2025-04-27 16:15:40 | 👥 People Detected: 1\n",
      "🖼️ Frame 17 | 🕒 2025-04-27 16:15:42 | 👥 People Detected: 1\n",
      "🖼️ Frame 18 | 🕒 2025-04-27 16:15:43 | 👥 People Detected: 1\n",
      "🖼️ Frame 19 | 🕒 2025-04-27 16:15:44 | 👥 People Detected: 1\n",
      "🖼️ Frame 20 | 🕒 2025-04-27 16:15:45 | 👥 People Detected: 1\n",
      "🖼️ Frame 21 | 🕒 2025-04-27 16:15:46 | 👥 People Detected: 1\n",
      "🖼️ Frame 22 | 🕒 2025-04-27 16:15:47 | 👥 People Detected: 1\n",
      "🖼️ Frame 23 | 🕒 2025-04-27 16:15:48 | 👥 People Detected: 1\n",
      "🖼️ Frame 24 | 🕒 2025-04-27 16:15:50 | 👥 People Detected: 1\n",
      "🖼️ Frame 25 | 🕒 2025-04-27 16:15:51 | 👥 People Detected: 1\n",
      "🖼️ Frame 26 | 🕒 2025-04-27 16:15:52 | 👥 People Detected: 1\n",
      "🖼️ Frame 27 | 🕒 2025-04-27 16:15:53 | 👥 People Detected: 1\n",
      "🖼️ Frame 28 | 🕒 2025-04-27 16:15:54 | 👥 People Detected: 1\n",
      "🖼️ Frame 29 | 🕒 2025-04-27 16:15:55 | 👥 People Detected: 1\n",
      "🖼️ Frame 30 | 🕒 2025-04-27 16:15:56 | 👥 People Detected: 1\n"
     ]
    }
   ],
   "source": [
    "# Loop for capturing frames\n",
    "print(\"Capturing people in the frames\")\n",
    "for i in range(30):\n",
    "    ret, frame = cap.read()\n",
    "    if not ret:\n",
    "        print(\"❌ Camera not accessible\")\n",
    "        break\n",
    "    print(\"Capturing people in the frames\")\n",
    "    results = model(frame)\n",
    "    count = len(results.xyxy[0])  # number of detections\n",
    "    timestamp = time.strftime('%Y-%m-%d %H:%M:%S')\n",
    "    log.append({'frame': i+1, 'time': timestamp, 'count': count})\n",
    "\n",
    "    # Visualize\n",
    "    img_rgb = cv2.cvtColor(frame, cv2.COLOR_BGR2RGB)\n",
    "    results.render()  # renders bounding boxes on frame\n",
    "\n",
    "    clear_output(wait=True)\n",
    "    plt.imshow(results.ims[0])\n",
    "    plt.axis('off')\n",
    "    plt.title(f'📷 Frame {i+1} – 👥 People Detected: {count}')\n",
    "    display(plt.gcf())\n",
    "    time.sleep(1)\n",
    "\n",
    " # Print number of people detected\n",
    "    print(f\"🕒 {timestamp} | Frame {i+1} | 👥 People Detected: {count}\")\n",
    "    \n",
    "# Release the camera\n",
    "cap.release()\n",
    "\n",
    "# AFTER the loop ends, print all counts\n",
    "print(\"\\n----- People Detection Summary -----\")\n",
    "for entry in log:\n",
    "    print(f\"🖼️ Frame {entry['frame']} | 🕒 {entry['time']} | 👥 People Detected: {entry['count']}\")\n"
   ]
  },
  {
   "cell_type": "code",
   "execution_count": 62,
   "id": "36ccc91c",
   "metadata": {},
   "outputs": [],
   "source": [
    "# 📸 Save selected frames (1st, 15th, 30th if they exist)\n",
    "import os\n",
    "os.makedirs(\"frames\", exist_ok=True)\n",
    "\n",
    "if len(results.ims) > 0:\n",
    "    if i == 0:\n",
    "        plt.imsave(\"frames/frame_1.png\", results.ims[0])\n",
    "    elif i == 14:\n",
    "        plt.imsave(\"frames/frame_15.png\", results.ims[0])\n",
    "    elif i == 29:\n",
    "        plt.imsave(\"frames/frame_30.png\", results.ims[0])"
   ]
  },
  {
   "cell_type": "markdown",
   "id": "6e6787ec",
   "metadata": {},
   "source": [
    "## 💾 Step 5: Save Log to CSV\n",
    "After monitoring is complete, we save the timestamped log to a CSV file for analysis later."
   ]
  },
  {
   "cell_type": "markdown",
   "id": "e3d9b437",
   "metadata": {},
   "source": [
    "## 🗺️ Define Activity Zones\n",
    "We define specific rectangular zones in the frame (e.g., `entry`, `help_desk`) to track where people are detected.\n",
    "Each detection is assigned to a zone based on the center of the bounding box."
   ]
  },
  {
   "cell_type": "code",
   "execution_count": 66,
   "id": "7f941beb",
   "metadata": {},
   "outputs": [],
   "source": [
    "# Define room zones (pixel coordinates)\n",
    "zones = {\n",
    "    'entry': [(0, 0), (250, 480)],\n",
    "    'help_desk': [(250, 0), (640, 480)]\n",
    "}\n",
    "\n",
    "def get_zone(person_box, zones):\n",
    "    x_center = (person_box[0] + person_box[2]) / 2\n",
    "    y_center = (person_box[1] + person_box[3]) / 2\n",
    "    for name, ((x1, y1), (x2, y2)) in zones.items():\n",
    "        if x1 <= x_center <= x2 and y1 <= y_center <= y2:\n",
    "            return name\n",
    "    return 'unknown'"
   ]
  },
  {
   "cell_type": "markdown",
   "id": "f3fddff1",
   "metadata": {},
   "source": [
    "## 🔁 Real-Time Frame Monitoring with Zone Tracking\n",
    "This loop detects people and logs both their total count and zone-specific counts."
   ]
  },
  {
   "cell_type": "code",
   "execution_count": 73,
   "id": "c6958381",
   "metadata": {},
   "outputs": [
    {
     "data": {
      "text/plain": [
       "<Figure size 640x480 with 1 Axes>"
      ]
     },
     "metadata": {},
     "output_type": "display_data"
    }
   ],
   "source": [
    "log = []  # reset log\n",
    "for i in range(30):\n",
    "    ret, frame = cap.read()\n",
    "    if not ret:\n",
    "        print(\"❌ Camera not accessible\")\n",
    "        break\n",
    "\n",
    "    results = model(frame)\n",
    "    boxes = results.xyxy[0].cpu().numpy()\n",
    "    count = len(boxes)\n",
    "\n",
    "    zone_counts = {}\n",
    "    for box in boxes:\n",
    "        zone = get_zone(box[:4], zones)\n",
    "        zone_counts[zone] = zone_counts.get(zone, 0) + 1\n",
    "\n",
    "    timestamp = time.strftime('%Y-%m-%d %H:%M:%S')\n",
    "    log.append({'time': timestamp, 'count': count, 'zones': zone_counts})\n",
    "\n",
    "    results.render()\n",
    "    clear_output(wait=True)\n",
    "    plt.imshow(results.ims[0])\n",
    "    plt.axis('off')\n",
    "    plt.title(f'Frame {i+1} – People: {count}')\n",
    "    display(plt.gcf())\n",
    "    time.sleep(1)"
   ]
  },
  {
   "cell_type": "markdown",
   "id": "124c6bc4",
   "metadata": {},
   "source": [
    "## 💾 Save Enhanced Log (Including Zones)"
   ]
  },
  {
   "cell_type": "code",
   "execution_count": 75,
   "id": "aba0ffb3",
   "metadata": {},
   "outputs": [
    {
     "data": {
      "text/html": [
       "<div>\n",
       "<style scoped>\n",
       "    .dataframe tbody tr th:only-of-type {\n",
       "        vertical-align: middle;\n",
       "    }\n",
       "\n",
       "    .dataframe tbody tr th {\n",
       "        vertical-align: top;\n",
       "    }\n",
       "\n",
       "    .dataframe thead th {\n",
       "        text-align: right;\n",
       "    }\n",
       "</style>\n",
       "<table border=\"1\" class=\"dataframe\">\n",
       "  <thead>\n",
       "    <tr style=\"text-align: right;\">\n",
       "      <th></th>\n",
       "      <th>time</th>\n",
       "      <th>count</th>\n",
       "      <th>zones</th>\n",
       "    </tr>\n",
       "  </thead>\n",
       "  <tbody>\n",
       "    <tr>\n",
       "      <th>0</th>\n",
       "      <td>2025-04-27 16:24:07</td>\n",
       "      <td>1</td>\n",
       "      <td>{'unknown': 1}</td>\n",
       "    </tr>\n",
       "    <tr>\n",
       "      <th>1</th>\n",
       "      <td>2025-04-27 16:24:08</td>\n",
       "      <td>1</td>\n",
       "      <td>{'unknown': 1}</td>\n",
       "    </tr>\n",
       "    <tr>\n",
       "      <th>2</th>\n",
       "      <td>2025-04-27 16:24:09</td>\n",
       "      <td>1</td>\n",
       "      <td>{'unknown': 1}</td>\n",
       "    </tr>\n",
       "    <tr>\n",
       "      <th>3</th>\n",
       "      <td>2025-04-27 16:24:10</td>\n",
       "      <td>2</td>\n",
       "      <td>{'unknown': 2}</td>\n",
       "    </tr>\n",
       "    <tr>\n",
       "      <th>4</th>\n",
       "      <td>2025-04-27 16:24:11</td>\n",
       "      <td>2</td>\n",
       "      <td>{'unknown': 2}</td>\n",
       "    </tr>\n",
       "  </tbody>\n",
       "</table>\n",
       "</div>"
      ],
      "text/plain": [
       "                  time  count           zones\n",
       "0  2025-04-27 16:24:07      1  {'unknown': 1}\n",
       "1  2025-04-27 16:24:08      1  {'unknown': 1}\n",
       "2  2025-04-27 16:24:09      1  {'unknown': 1}\n",
       "3  2025-04-27 16:24:10      2  {'unknown': 2}\n",
       "4  2025-04-27 16:24:11      2  {'unknown': 2}"
      ]
     },
     "execution_count": 75,
     "metadata": {},
     "output_type": "execute_result"
    }
   ],
   "source": [
    "cap.release()\n",
    "df = pd.DataFrame(log)\n",
    "df.to_csv(\"room_log_with_zones.csv\", index=False)\n",
    "df.head()"
   ]
  },
  {
   "cell_type": "code",
   "execution_count": 77,
   "id": "818ffe71",
   "metadata": {},
   "outputs": [
    {
     "data": {
      "text/html": [
       "<div>\n",
       "<style scoped>\n",
       "    .dataframe tbody tr th:only-of-type {\n",
       "        vertical-align: middle;\n",
       "    }\n",
       "\n",
       "    .dataframe tbody tr th {\n",
       "        vertical-align: top;\n",
       "    }\n",
       "\n",
       "    .dataframe thead th {\n",
       "        text-align: right;\n",
       "    }\n",
       "</style>\n",
       "<table border=\"1\" class=\"dataframe\">\n",
       "  <thead>\n",
       "    <tr style=\"text-align: right;\">\n",
       "      <th></th>\n",
       "      <th>time</th>\n",
       "      <th>count</th>\n",
       "      <th>zones</th>\n",
       "    </tr>\n",
       "  </thead>\n",
       "  <tbody>\n",
       "    <tr>\n",
       "      <th>0</th>\n",
       "      <td>2025-04-27 16:24:07</td>\n",
       "      <td>1</td>\n",
       "      <td>{'unknown': 1}</td>\n",
       "    </tr>\n",
       "    <tr>\n",
       "      <th>1</th>\n",
       "      <td>2025-04-27 16:24:08</td>\n",
       "      <td>1</td>\n",
       "      <td>{'unknown': 1}</td>\n",
       "    </tr>\n",
       "    <tr>\n",
       "      <th>2</th>\n",
       "      <td>2025-04-27 16:24:09</td>\n",
       "      <td>1</td>\n",
       "      <td>{'unknown': 1}</td>\n",
       "    </tr>\n",
       "    <tr>\n",
       "      <th>3</th>\n",
       "      <td>2025-04-27 16:24:10</td>\n",
       "      <td>2</td>\n",
       "      <td>{'unknown': 2}</td>\n",
       "    </tr>\n",
       "    <tr>\n",
       "      <th>4</th>\n",
       "      <td>2025-04-27 16:24:11</td>\n",
       "      <td>2</td>\n",
       "      <td>{'unknown': 2}</td>\n",
       "    </tr>\n",
       "  </tbody>\n",
       "</table>\n",
       "</div>"
      ],
      "text/plain": [
       "                  time  count           zones\n",
       "0  2025-04-27 16:24:07      1  {'unknown': 1}\n",
       "1  2025-04-27 16:24:08      1  {'unknown': 1}\n",
       "2  2025-04-27 16:24:09      1  {'unknown': 1}\n",
       "3  2025-04-27 16:24:10      2  {'unknown': 2}\n",
       "4  2025-04-27 16:24:11      2  {'unknown': 2}"
      ]
     },
     "execution_count": 77,
     "metadata": {},
     "output_type": "execute_result"
    }
   ],
   "source": [
    "cap.release()\n",
    "df = pd.DataFrame(log)\n",
    "df.to_csv(\"jupyter_live_log.csv\", index=False)\n",
    "df.head()"
   ]
  },
  {
   "cell_type": "markdown",
   "id": "b9068dbd",
   "metadata": {},
   "source": [
    "---\n",
    "🎉 **Done!** You've just captured and analyzed 30 frames in real time with live annotations. You can now open `jupyter_live_log.csv` for further data analysis or reporting.\n",
    "\n",
    "💡 Tip: Extend the loop for more frames or add zone tracking to enhance this notebook further!"
   ]
  },
  {
   "cell_type": "markdown",
   "id": "9af3dce3",
   "metadata": {},
   "source": [
    "## 📊 Step 6: Analyze Captured Data\n",
    "Now that we’ve saved the real-time detection data, let’s load it and visualize how room occupancy changed during our monitoring session."
   ]
  },
  {
   "cell_type": "code",
   "execution_count": 95,
   "id": "27b99291",
   "metadata": {},
   "outputs": [],
   "source": [
    "# Load the CSV file\n",
    "df = pd.read_csv(\"jupyter_live_log.csv\")\n",
    "df['time'] = pd.to_datetime(df['time'])\n",
    "df.head()\n",
    "\n",
    "plt.figure(figsize=(12, 5))\n",
    "plt.plot(df['time'], df['count'], marker='o', linestyle='-')\n",
    "plt.title('👥 People Detected Over Time')\n",
    "plt.xlabel('Time')\n",
    "plt.ylabel('Number of People')\n",
    "plt.grid(True)\n",
    "plt.xticks(rotation=45)\n",
    "plt.tight_layout()\n",
    "plt.show()"
   ]
  },
  {
   "cell_type": "markdown",
   "id": "d89f745c",
   "metadata": {},
   "source": [
    "### 📈 Plot: Occupancy Over Time\n",
    "This line chart shows the number of people detected in each frame over time."
   ]
  },
  {
   "cell_type": "code",
   "execution_count": 89,
   "id": "23e3ab3b",
   "metadata": {},
   "outputs": [],
   "source": [
    "df = pd.DataFrame(log)\n",
    "plt.figure(figsize=(12, 5))\n",
    "plt.plot(df['time'], df['count'], marker='o', linestyle='-')\n",
    "plt.title('👥 People Detected Over Time')\n",
    "plt.xlabel('Time')\n",
    "plt.ylabel('Number of People')\n",
    "plt.grid(True)\n",
    "plt.xticks(rotation=45)\n",
    "plt.tight_layout()\n",
    "plt.show()"
   ]
  },
  {
   "cell_type": "markdown",
   "id": "36112c26",
   "metadata": {},
   "source": [
    "### 📌 Summary Statistics\n",
    "Let’s display the average, max, and min number of people detected during the session."
   ]
  },
  {
   "cell_type": "code",
   "execution_count": 85,
   "id": "848f698c",
   "metadata": {},
   "outputs": [
    {
     "data": {
      "text/plain": [
       "count    30.000000\n",
       "mean      1.100000\n",
       "std       0.305129\n",
       "min       1.000000\n",
       "25%       1.000000\n",
       "50%       1.000000\n",
       "75%       1.000000\n",
       "max       2.000000\n",
       "Name: count, dtype: float64"
      ]
     },
     "execution_count": 85,
     "metadata": {},
     "output_type": "execute_result"
    }
   ],
   "source": [
    "summary = df['count'].describe()\n",
    "summary"
   ]
  },
  {
   "cell_type": "markdown",
   "id": "b6bf0cc6",
   "metadata": {},
   "source": [
    "---\n",
    "✅ **Analysis Complete!** You've visualized real-time people tracking data and generated key insights.\n",
    "\n",
    "You can export this notebook, include it in presentations, or continue by adding zone-based tracking and alerts."
   ]
  },
  {
   "cell_type": "markdown",
   "id": "e7c8f0a5",
   "metadata": {},
   "source": [
    "## 🔍 Step 7: Zone-Specific Heatmaps\n",
    "Let's extract and visualize how frequently different zones were used across all captured frames.\n",
    "\n",
    "We assume each detection in the original video frame was tagged with the zone it appeared in (e.g., `entry`, `help_desk`)."
   ]
  },
  {
   "cell_type": "code",
   "execution_count": 97,
   "id": "adc509f4",
   "metadata": {},
   "outputs": [],
   "source": [
    "import ast\n",
    "# Add synthetic example if real zones aren't logged\n",
    "# Convert dictionary-style strings into actual Python dicts if zone log exists\n",
    "try:\n",
    "    df = pd.read_csv(\"jupyter_live_log.csv\")\n",
    "    df['time'] = pd.to_datetime(df['time'])\n",
    "    df['zones'] = df['zones'].apply(ast.literal_eval)\n",
    "    zone_df = df['zones'].apply(pd.Series).fillna(0)\n",
    "    zone_totals = zone_df.sum()\n",
    "except:\n",
    "    print(\"No zone data available. Skipping zone-specific analysis.\")"
   ]
  },
  {
   "cell_type": "markdown",
   "id": "bf1b4a34",
   "metadata": {},
   "source": [
    "### 📊 Heatmap of Zone Activity\n",
    "This heatmap shows which areas of the room were most frequently active."
   ]
  },
  {
   "cell_type": "code",
   "execution_count": null,
   "id": "55f77132",
   "metadata": {},
   "outputs": [],
   "source": [
    "import seaborn as sns\n",
    "import matplotlib.pyplot as plt\n",
    "\n",
    "plt.figure(figsize=(8, 4))\n",
    "sns.barplot(x=zone_totals.index, y=zone_totals.values, hue=zone_totals.index, palette=\"coolwarm\", dodge=False, legend=False)\n",
    "\n",
    "plt.title(\"🔥 Zone Usage Frequency\")\n",
    "plt.ylabel(\"# of People Detected\")\n",
    "plt.xlabel(\"Zone\")\n",
    "plt.show()"
   ]
  },
  {
   "cell_type": "markdown",
   "id": "6e6f2195",
   "metadata": {},
   "source": [
    "## 🚨 Step 8: Real-Time Alerts Summary\n",
    "We simulate a live alert system by identifying all time points where total room occupancy exceeded a set threshold (e.g., 5 people)."
   ]
  },
  {
   "cell_type": "code",
   "execution_count": null,
   "id": "b1f9a97f",
   "metadata": {},
   "outputs": [],
   "source": [
    "THRESHOLD = 5\n",
    "over_threshold = df[df['count'] > THRESHOLD]\n",
    "print(f\"⚠️ {len(over_threshold)} alerts triggered. Here are the timestamps:\")\n",
    "over_threshold[['time', 'count']]"
   ]
  },
  {
   "cell_type": "markdown",
   "id": "f413389e",
   "metadata": {},
   "source": [
    "## ✅ Final Insights\n",
    "This notebook completes the analytical cycle described in your CIS 515 proposal:\n",
    "- 🔎 **Detection & Tracking** via webcam + YOLO\n",
    "- 🧠 **Zone Monitoring** across room spaces\n",
    "- 📊 **Statistical & Visual Analysis** of room activity\n",
    "- 🚨 **Real-Time Alerting** for overcrowded conditions\n",
    "\n",
    "**Next steps:** Deploying this into an interactive Streamlit dashboard for live visualization and broader campus utility."
   ]
  },
  {
   "cell_type": "markdown",
   "id": "86cc8dca",
   "metadata": {},
   "source": [
    "## 🖼️ Sample Captured Frames (Annotated)\n",
    "Here are a few example annotated frames saved during live detection:\n",
    "\n",
    "![Frame 1](frames/frame_1.png)\n",
    "![Frame 15](frames/frame_15.png)\n",
    "![Frame 30](frames/frame_30.png)"
   ]
  }
 ],
 "metadata": {
  "kernelspec": {
   "display_name": "Python 3 (ipykernel)",
   "language": "python",
   "name": "python3"
  },
  "language_info": {
   "codemirror_mode": {
    "name": "ipython",
    "version": 3
   },
   "file_extension": ".py",
   "mimetype": "text/x-python",
   "name": "python",
   "nbconvert_exporter": "python",
   "pygments_lexer": "ipython3",
   "version": "3.12.4"
  }
 },
 "nbformat": 4,
 "nbformat_minor": 5
}
